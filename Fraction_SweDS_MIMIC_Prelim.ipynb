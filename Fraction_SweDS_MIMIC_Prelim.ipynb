{
  "cells": [
    {
      "cell_type": "markdown",
      "metadata": {
        "id": "5NMJ6wUt-smG"
      },
      "source": [
        "# Testing using MIMIC for SweDS project\n"
      ]
    },
    {
      "cell_type": "markdown",
      "metadata": {
        "id": "rqrO0vpsIvPB"
      },
      "source": [
        "https://mimic.mit.edu/docs/iv/about/"
      ]
    },
    {
      "cell_type": "markdown",
      "source": [
        "## Helpful links for later:"
      ],
      "metadata": {
        "id": "l3SiC0jvLnEH"
      }
    },
    {
      "cell_type": "markdown",
      "source": [
        "https://mimic.mit.edu/docs/gettingstarted/cloud/request/\n",
        "\n",
        "https://mimic.mit.edu/docs/gettingstarted/cloud/bigquery/\n",
        "\n",
        "https://github.com/MIT-LCP/mimic-code/blob/main/mimic-iv/buildmimic/bigquery/README.md\n",
        "\n",
        "https://physionet.org/settings/cloud/"
      ],
      "metadata": {
        "id": "FBRxGfBFLqeC"
      }
    },
    {
      "cell_type": "markdown",
      "metadata": {
        "id": "60qvDK5O-zKm"
      },
      "source": [
        "## Setup & Loading Data"
      ]
    },
    {
      "cell_type": "code",
      "execution_count": 8,
      "metadata": {
        "id": "0fZP5BybaIAf"
      },
      "outputs": [],
      "source": [
        "import pandas as pd\n",
        "import numpy as np\n",
        "import matplotlib.pyplot as plt\n",
        "import seaborn as sns\n",
        "from tqdm import tqdm"
      ]
    },
    {
      "cell_type": "code",
      "execution_count": 2,
      "metadata": {
        "id": "mSNscvCwYpCO"
      },
      "outputs": [],
      "source": [
        "from google.colab import userdata\n",
        "your_physionet_username = userdata.get('username')\n",
        "your_physionet_password = userdata.get('password')\n",
        "\n",
        "from google.colab import auth\n",
        "auth.authenticate_user()\n",
        "\n",
        "from google.cloud import bigquery\n",
        "client = bigquery.Client(project='swe-ds-proj-eas') #my personal proj name\n"
      ]
    },
    {
      "cell_type": "code",
      "execution_count": null,
      "metadata": {
        "colab": {
          "base_uri": "https://localhost:8080/"
        },
        "id": "om2LlbU-3OZF",
        "outputId": "de8a7f5a-37b1-44b7-f2ba-e80ee07c0945"
      },
      "outputs": [
        {
          "name": "stdout",
          "output_type": "stream",
          "text": [
            "\u001b[?25l   \u001b[90m━━━━━━━━━━━━━━━━━━━━━━━━━━━━━━━━━━━━━━━━\u001b[0m \u001b[32m0.0/239.1 kB\u001b[0m \u001b[31m?\u001b[0m eta \u001b[36m-:--:--\u001b[0m\r\u001b[2K   \u001b[91m━━━━━━━━━━━━━━━━━━━━━━━━━━━━━━━━\u001b[0m\u001b[91m╸\u001b[0m\u001b[90m━━━━━━━\u001b[0m \u001b[32m194.6/239.1 kB\u001b[0m \u001b[31m6.2 MB/s\u001b[0m eta \u001b[36m0:00:01\u001b[0m\r\u001b[2K   \u001b[90m━━━━━━━━━━━━━━━━━━━━━━━━━━━━━━━━━━━━━━━━\u001b[0m \u001b[32m239.1/239.1 kB\u001b[0m \u001b[31m4.4 MB/s\u001b[0m eta \u001b[36m0:00:00\u001b[0m\n",
            "\u001b[?25h"
          ]
        }
      ],
      "source": [
        "#!pip install --quiet --upgrade google-cloud-bigquery\n"
      ]
    },
    {
      "cell_type": "code",
      "execution_count": 3,
      "metadata": {
        "colab": {
          "base_uri": "https://localhost:8080/"
        },
        "id": "A5WeJc9M3wsW",
        "outputId": "db89e876-760f-4ad3-c2fb-57e81c439fd7"
      },
      "outputs": [
        {
          "output_type": "stream",
          "name": "stdout",
          "text": [
            "Number of hemorrhage admissions: 37546\n"
          ]
        }
      ],
      "source": [
        "# SQL query to get admissions with hemorrhage diagnoses\n",
        "query_hemorrhage_admissions = \"\"\"\n",
        "-- Get admissions with hemorrhage diagnoses\n",
        "SELECT DISTINCT hadm_id\n",
        "FROM `physionet-data.mimiciv_hosp.diagnoses_icd` diag\n",
        "JOIN `physionet-data.mimiciv_hosp.d_icd_diagnoses` dicd\n",
        "  ON diag.icd_code = dicd.icd_code AND diag.icd_version = dicd.icd_version\n",
        "WHERE LOWER(dicd.long_title) LIKE '%hemorrhage%'\n",
        "\"\"\"\n",
        "\n",
        "# Execute the query and convert the result to a DataFrame\n",
        "hemorrhage_admissions_df = client.query(query_hemorrhage_admissions).to_dataframe()\n",
        "\n",
        "# Extract the list of hadm_ids for hemorrhage admissions\n",
        "hemorrhage_hadm_ids = hemorrhage_admissions_df['hadm_id'].tolist()\n",
        "\n",
        "print(f\"Number of hemorrhage admissions: {len(hemorrhage_hadm_ids)}\")\n"
      ]
    },
    {
      "cell_type": "code",
      "execution_count": 4,
      "metadata": {
        "colab": {
          "base_uri": "https://localhost:8080/"
        },
        "id": "aIgI3Abo5PAm",
        "outputId": "f2a97393-f98d-4f3a-b5e5-8aa9febfb086"
      },
      "outputs": [
        {
          "output_type": "stream",
          "name": "stdout",
          "text": [
            "Number of control admissions: 393685\n"
          ]
        }
      ],
      "source": [
        "# SQL query to get all admissions excluding hemorrhage cases\n",
        "query_control_admissions = \"\"\"\n",
        "SELECT hadm_id\n",
        "FROM `physionet-data.mimiciv_hosp.admissions`\n",
        "WHERE hadm_id NOT IN UNNEST(@hemorrhage_hadm_ids)\n",
        "\"\"\"\n",
        "\n",
        "# Since BigQuery has a limit on the size of parameters, we may need to split the hemorrhage_hadm_ids into chunks\n",
        "def split_list(lst, n):\n",
        "    \"\"\"Split list lst into chunks of size n.\"\"\"\n",
        "    for i in range(0, len(lst), n):\n",
        "        yield lst[i:i + n]\n",
        "\n",
        "# BigQuery allows up to 100,000 parameters, so we can proceed\n",
        "job_config = bigquery.QueryJobConfig(\n",
        "    query_parameters=[\n",
        "        bigquery.ArrayQueryParameter(\"hemorrhage_hadm_ids\", \"INT64\", hemorrhage_hadm_ids)\n",
        "    ]\n",
        ")\n",
        "\n",
        "# Execute the query and convert the result to a DataFrame\n",
        "control_admissions_df = client.query(query_control_admissions, job_config=job_config).to_dataframe()\n",
        "\n",
        "# Extract the list of hadm_ids for control admissions\n",
        "control_hadm_ids = control_admissions_df['hadm_id'].tolist()\n",
        "print(f\"Number of control admissions: {len(control_hadm_ids)}\")\n"
      ]
    },
    {
      "cell_type": "code",
      "execution_count": 5,
      "metadata": {
        "colab": {
          "base_uri": "https://localhost:8080/"
        },
        "id": "BaWgYsH45U4Z",
        "outputId": "ed10201a-28a4-44a6-97bb-ebaccbbab544"
      },
      "outputs": [
        {
          "output_type": "stream",
          "name": "stdout",
          "text": [
            "Total admissions in balanced dataset: 75092\n"
          ]
        }
      ],
      "source": [
        "import random\n",
        "\n",
        "# Sample control admissions to match the number of hemorrhage admissions\n",
        "control_sample_size = len(hemorrhage_hadm_ids)\n",
        "random.seed(42)  # For reproducibility\n",
        "control_sample_hadm_ids = random.sample(control_hadm_ids, control_sample_size)\n",
        "\n",
        "# Combine hemorrhage and control hadm_ids\n",
        "balanced_hadm_ids = hemorrhage_hadm_ids + control_sample_hadm_ids\n",
        "\n",
        "print(f\"Total admissions in balanced dataset: {len(balanced_hadm_ids)}\")\n"
      ]
    },
    {
      "cell_type": "code",
      "execution_count": 6,
      "metadata": {
        "colab": {
          "base_uri": "https://localhost:8080/",
          "height": 438
        },
        "id": "p70EJ8Cq5XL1",
        "outputId": "a02c837b-a74c-4cbf-9a15-141e85917213"
      },
      "outputs": [
        {
          "output_type": "stream",
          "name": "stdout",
          "text": [
            "Lab Item IDs for selected tests:\n"
          ]
        },
        {
          "output_type": "display_data",
          "data": {
            "text/plain": [
              "    itemid           label\n",
              "0    50811      Hemoglobin\n",
              "1    52028      Hematocrit\n",
              "2    51638      Hematocrit\n",
              "3    51639      Hematocrit\n",
              "4    51640      Hemoglobin\n",
              "5    51675         INR(PT)\n",
              "6    51704  Platelet Count\n",
              "7    51221      Hematocrit\n",
              "8    51222      Hemoglobin\n",
              "9    51237         INR(PT)\n",
              "10   51265  Platelet Count\n",
              "11   51480      Hematocrit"
            ],
            "text/html": [
              "\n",
              "  <div id=\"df-60fe20c9-0c6c-42fe-9a5b-b974f82ef759\" class=\"colab-df-container\">\n",
              "    <div>\n",
              "<style scoped>\n",
              "    .dataframe tbody tr th:only-of-type {\n",
              "        vertical-align: middle;\n",
              "    }\n",
              "\n",
              "    .dataframe tbody tr th {\n",
              "        vertical-align: top;\n",
              "    }\n",
              "\n",
              "    .dataframe thead th {\n",
              "        text-align: right;\n",
              "    }\n",
              "</style>\n",
              "<table border=\"1\" class=\"dataframe\">\n",
              "  <thead>\n",
              "    <tr style=\"text-align: right;\">\n",
              "      <th></th>\n",
              "      <th>itemid</th>\n",
              "      <th>label</th>\n",
              "    </tr>\n",
              "  </thead>\n",
              "  <tbody>\n",
              "    <tr>\n",
              "      <th>0</th>\n",
              "      <td>50811</td>\n",
              "      <td>Hemoglobin</td>\n",
              "    </tr>\n",
              "    <tr>\n",
              "      <th>1</th>\n",
              "      <td>52028</td>\n",
              "      <td>Hematocrit</td>\n",
              "    </tr>\n",
              "    <tr>\n",
              "      <th>2</th>\n",
              "      <td>51638</td>\n",
              "      <td>Hematocrit</td>\n",
              "    </tr>\n",
              "    <tr>\n",
              "      <th>3</th>\n",
              "      <td>51639</td>\n",
              "      <td>Hematocrit</td>\n",
              "    </tr>\n",
              "    <tr>\n",
              "      <th>4</th>\n",
              "      <td>51640</td>\n",
              "      <td>Hemoglobin</td>\n",
              "    </tr>\n",
              "    <tr>\n",
              "      <th>5</th>\n",
              "      <td>51675</td>\n",
              "      <td>INR(PT)</td>\n",
              "    </tr>\n",
              "    <tr>\n",
              "      <th>6</th>\n",
              "      <td>51704</td>\n",
              "      <td>Platelet Count</td>\n",
              "    </tr>\n",
              "    <tr>\n",
              "      <th>7</th>\n",
              "      <td>51221</td>\n",
              "      <td>Hematocrit</td>\n",
              "    </tr>\n",
              "    <tr>\n",
              "      <th>8</th>\n",
              "      <td>51222</td>\n",
              "      <td>Hemoglobin</td>\n",
              "    </tr>\n",
              "    <tr>\n",
              "      <th>9</th>\n",
              "      <td>51237</td>\n",
              "      <td>INR(PT)</td>\n",
              "    </tr>\n",
              "    <tr>\n",
              "      <th>10</th>\n",
              "      <td>51265</td>\n",
              "      <td>Platelet Count</td>\n",
              "    </tr>\n",
              "    <tr>\n",
              "      <th>11</th>\n",
              "      <td>51480</td>\n",
              "      <td>Hematocrit</td>\n",
              "    </tr>\n",
              "  </tbody>\n",
              "</table>\n",
              "</div>\n",
              "    <div class=\"colab-df-buttons\">\n",
              "\n",
              "  <div class=\"colab-df-container\">\n",
              "    <button class=\"colab-df-convert\" onclick=\"convertToInteractive('df-60fe20c9-0c6c-42fe-9a5b-b974f82ef759')\"\n",
              "            title=\"Convert this dataframe to an interactive table.\"\n",
              "            style=\"display:none;\">\n",
              "\n",
              "  <svg xmlns=\"http://www.w3.org/2000/svg\" height=\"24px\" viewBox=\"0 -960 960 960\">\n",
              "    <path d=\"M120-120v-720h720v720H120Zm60-500h600v-160H180v160Zm220 220h160v-160H400v160Zm0 220h160v-160H400v160ZM180-400h160v-160H180v160Zm440 0h160v-160H620v160ZM180-180h160v-160H180v160Zm440 0h160v-160H620v160Z\"/>\n",
              "  </svg>\n",
              "    </button>\n",
              "\n",
              "  <style>\n",
              "    .colab-df-container {\n",
              "      display:flex;\n",
              "      gap: 12px;\n",
              "    }\n",
              "\n",
              "    .colab-df-convert {\n",
              "      background-color: #E8F0FE;\n",
              "      border: none;\n",
              "      border-radius: 50%;\n",
              "      cursor: pointer;\n",
              "      display: none;\n",
              "      fill: #1967D2;\n",
              "      height: 32px;\n",
              "      padding: 0 0 0 0;\n",
              "      width: 32px;\n",
              "    }\n",
              "\n",
              "    .colab-df-convert:hover {\n",
              "      background-color: #E2EBFA;\n",
              "      box-shadow: 0px 1px 2px rgba(60, 64, 67, 0.3), 0px 1px 3px 1px rgba(60, 64, 67, 0.15);\n",
              "      fill: #174EA6;\n",
              "    }\n",
              "\n",
              "    .colab-df-buttons div {\n",
              "      margin-bottom: 4px;\n",
              "    }\n",
              "\n",
              "    [theme=dark] .colab-df-convert {\n",
              "      background-color: #3B4455;\n",
              "      fill: #D2E3FC;\n",
              "    }\n",
              "\n",
              "    [theme=dark] .colab-df-convert:hover {\n",
              "      background-color: #434B5C;\n",
              "      box-shadow: 0px 1px 3px 1px rgba(0, 0, 0, 0.15);\n",
              "      filter: drop-shadow(0px 1px 2px rgba(0, 0, 0, 0.3));\n",
              "      fill: #FFFFFF;\n",
              "    }\n",
              "  </style>\n",
              "\n",
              "    <script>\n",
              "      const buttonEl =\n",
              "        document.querySelector('#df-60fe20c9-0c6c-42fe-9a5b-b974f82ef759 button.colab-df-convert');\n",
              "      buttonEl.style.display =\n",
              "        google.colab.kernel.accessAllowed ? 'block' : 'none';\n",
              "\n",
              "      async function convertToInteractive(key) {\n",
              "        const element = document.querySelector('#df-60fe20c9-0c6c-42fe-9a5b-b974f82ef759');\n",
              "        const dataTable =\n",
              "          await google.colab.kernel.invokeFunction('convertToInteractive',\n",
              "                                                    [key], {});\n",
              "        if (!dataTable) return;\n",
              "\n",
              "        const docLinkHtml = 'Like what you see? Visit the ' +\n",
              "          '<a target=\"_blank\" href=https://colab.research.google.com/notebooks/data_table.ipynb>data table notebook</a>'\n",
              "          + ' to learn more about interactive tables.';\n",
              "        element.innerHTML = '';\n",
              "        dataTable['output_type'] = 'display_data';\n",
              "        await google.colab.output.renderOutput(dataTable, element);\n",
              "        const docLink = document.createElement('div');\n",
              "        docLink.innerHTML = docLinkHtml;\n",
              "        element.appendChild(docLink);\n",
              "      }\n",
              "    </script>\n",
              "  </div>\n",
              "\n",
              "\n",
              "<div id=\"df-80133639-a46f-44cc-966d-9f4b5c1dbab4\">\n",
              "  <button class=\"colab-df-quickchart\" onclick=\"quickchart('df-80133639-a46f-44cc-966d-9f4b5c1dbab4')\"\n",
              "            title=\"Suggest charts\"\n",
              "            style=\"display:none;\">\n",
              "\n",
              "<svg xmlns=\"http://www.w3.org/2000/svg\" height=\"24px\"viewBox=\"0 0 24 24\"\n",
              "     width=\"24px\">\n",
              "    <g>\n",
              "        <path d=\"M19 3H5c-1.1 0-2 .9-2 2v14c0 1.1.9 2 2 2h14c1.1 0 2-.9 2-2V5c0-1.1-.9-2-2-2zM9 17H7v-7h2v7zm4 0h-2V7h2v10zm4 0h-2v-4h2v4z\"/>\n",
              "    </g>\n",
              "</svg>\n",
              "  </button>\n",
              "\n",
              "<style>\n",
              "  .colab-df-quickchart {\n",
              "      --bg-color: #E8F0FE;\n",
              "      --fill-color: #1967D2;\n",
              "      --hover-bg-color: #E2EBFA;\n",
              "      --hover-fill-color: #174EA6;\n",
              "      --disabled-fill-color: #AAA;\n",
              "      --disabled-bg-color: #DDD;\n",
              "  }\n",
              "\n",
              "  [theme=dark] .colab-df-quickchart {\n",
              "      --bg-color: #3B4455;\n",
              "      --fill-color: #D2E3FC;\n",
              "      --hover-bg-color: #434B5C;\n",
              "      --hover-fill-color: #FFFFFF;\n",
              "      --disabled-bg-color: #3B4455;\n",
              "      --disabled-fill-color: #666;\n",
              "  }\n",
              "\n",
              "  .colab-df-quickchart {\n",
              "    background-color: var(--bg-color);\n",
              "    border: none;\n",
              "    border-radius: 50%;\n",
              "    cursor: pointer;\n",
              "    display: none;\n",
              "    fill: var(--fill-color);\n",
              "    height: 32px;\n",
              "    padding: 0;\n",
              "    width: 32px;\n",
              "  }\n",
              "\n",
              "  .colab-df-quickchart:hover {\n",
              "    background-color: var(--hover-bg-color);\n",
              "    box-shadow: 0 1px 2px rgba(60, 64, 67, 0.3), 0 1px 3px 1px rgba(60, 64, 67, 0.15);\n",
              "    fill: var(--button-hover-fill-color);\n",
              "  }\n",
              "\n",
              "  .colab-df-quickchart-complete:disabled,\n",
              "  .colab-df-quickchart-complete:disabled:hover {\n",
              "    background-color: var(--disabled-bg-color);\n",
              "    fill: var(--disabled-fill-color);\n",
              "    box-shadow: none;\n",
              "  }\n",
              "\n",
              "  .colab-df-spinner {\n",
              "    border: 2px solid var(--fill-color);\n",
              "    border-color: transparent;\n",
              "    border-bottom-color: var(--fill-color);\n",
              "    animation:\n",
              "      spin 1s steps(1) infinite;\n",
              "  }\n",
              "\n",
              "  @keyframes spin {\n",
              "    0% {\n",
              "      border-color: transparent;\n",
              "      border-bottom-color: var(--fill-color);\n",
              "      border-left-color: var(--fill-color);\n",
              "    }\n",
              "    20% {\n",
              "      border-color: transparent;\n",
              "      border-left-color: var(--fill-color);\n",
              "      border-top-color: var(--fill-color);\n",
              "    }\n",
              "    30% {\n",
              "      border-color: transparent;\n",
              "      border-left-color: var(--fill-color);\n",
              "      border-top-color: var(--fill-color);\n",
              "      border-right-color: var(--fill-color);\n",
              "    }\n",
              "    40% {\n",
              "      border-color: transparent;\n",
              "      border-right-color: var(--fill-color);\n",
              "      border-top-color: var(--fill-color);\n",
              "    }\n",
              "    60% {\n",
              "      border-color: transparent;\n",
              "      border-right-color: var(--fill-color);\n",
              "    }\n",
              "    80% {\n",
              "      border-color: transparent;\n",
              "      border-right-color: var(--fill-color);\n",
              "      border-bottom-color: var(--fill-color);\n",
              "    }\n",
              "    90% {\n",
              "      border-color: transparent;\n",
              "      border-bottom-color: var(--fill-color);\n",
              "    }\n",
              "  }\n",
              "</style>\n",
              "\n",
              "  <script>\n",
              "    async function quickchart(key) {\n",
              "      const quickchartButtonEl =\n",
              "        document.querySelector('#' + key + ' button');\n",
              "      quickchartButtonEl.disabled = true;  // To prevent multiple clicks.\n",
              "      quickchartButtonEl.classList.add('colab-df-spinner');\n",
              "      try {\n",
              "        const charts = await google.colab.kernel.invokeFunction(\n",
              "            'suggestCharts', [key], {});\n",
              "      } catch (error) {\n",
              "        console.error('Error during call to suggestCharts:', error);\n",
              "      }\n",
              "      quickchartButtonEl.classList.remove('colab-df-spinner');\n",
              "      quickchartButtonEl.classList.add('colab-df-quickchart-complete');\n",
              "    }\n",
              "    (() => {\n",
              "      let quickchartButtonEl =\n",
              "        document.querySelector('#df-80133639-a46f-44cc-966d-9f4b5c1dbab4 button');\n",
              "      quickchartButtonEl.style.display =\n",
              "        google.colab.kernel.accessAllowed ? 'block' : 'none';\n",
              "    })();\n",
              "  </script>\n",
              "</div>\n",
              "\n",
              "  <div id=\"id_3ba509c4-c20a-4c2d-a061-bea7a81e5949\">\n",
              "    <style>\n",
              "      .colab-df-generate {\n",
              "        background-color: #E8F0FE;\n",
              "        border: none;\n",
              "        border-radius: 50%;\n",
              "        cursor: pointer;\n",
              "        display: none;\n",
              "        fill: #1967D2;\n",
              "        height: 32px;\n",
              "        padding: 0 0 0 0;\n",
              "        width: 32px;\n",
              "      }\n",
              "\n",
              "      .colab-df-generate:hover {\n",
              "        background-color: #E2EBFA;\n",
              "        box-shadow: 0px 1px 2px rgba(60, 64, 67, 0.3), 0px 1px 3px 1px rgba(60, 64, 67, 0.15);\n",
              "        fill: #174EA6;\n",
              "      }\n",
              "\n",
              "      [theme=dark] .colab-df-generate {\n",
              "        background-color: #3B4455;\n",
              "        fill: #D2E3FC;\n",
              "      }\n",
              "\n",
              "      [theme=dark] .colab-df-generate:hover {\n",
              "        background-color: #434B5C;\n",
              "        box-shadow: 0px 1px 3px 1px rgba(0, 0, 0, 0.15);\n",
              "        filter: drop-shadow(0px 1px 2px rgba(0, 0, 0, 0.3));\n",
              "        fill: #FFFFFF;\n",
              "      }\n",
              "    </style>\n",
              "    <button class=\"colab-df-generate\" onclick=\"generateWithVariable('lab_itemids_df')\"\n",
              "            title=\"Generate code using this dataframe.\"\n",
              "            style=\"display:none;\">\n",
              "\n",
              "  <svg xmlns=\"http://www.w3.org/2000/svg\" height=\"24px\"viewBox=\"0 0 24 24\"\n",
              "       width=\"24px\">\n",
              "    <path d=\"M7,19H8.4L18.45,9,17,7.55,7,17.6ZM5,21V16.75L18.45,3.32a2,2,0,0,1,2.83,0l1.4,1.43a1.91,1.91,0,0,1,.58,1.4,1.91,1.91,0,0,1-.58,1.4L9.25,21ZM18.45,9,17,7.55Zm-12,3A5.31,5.31,0,0,0,4.9,8.1,5.31,5.31,0,0,0,1,6.5,5.31,5.31,0,0,0,4.9,4.9,5.31,5.31,0,0,0,6.5,1,5.31,5.31,0,0,0,8.1,4.9,5.31,5.31,0,0,0,12,6.5,5.46,5.46,0,0,0,6.5,12Z\"/>\n",
              "  </svg>\n",
              "    </button>\n",
              "    <script>\n",
              "      (() => {\n",
              "      const buttonEl =\n",
              "        document.querySelector('#id_3ba509c4-c20a-4c2d-a061-bea7a81e5949 button.colab-df-generate');\n",
              "      buttonEl.style.display =\n",
              "        google.colab.kernel.accessAllowed ? 'block' : 'none';\n",
              "\n",
              "      buttonEl.onclick = () => {\n",
              "        google.colab.notebook.generateWithVariable('lab_itemids_df');\n",
              "      }\n",
              "      })();\n",
              "    </script>\n",
              "  </div>\n",
              "\n",
              "    </div>\n",
              "  </div>\n"
            ],
            "application/vnd.google.colaboratory.intrinsic+json": {
              "type": "dataframe",
              "variable_name": "lab_itemids_df",
              "summary": "{\n  \"name\": \"lab_itemids_df\",\n  \"rows\": 12,\n  \"fields\": [\n    {\n      \"column\": \"itemid\",\n      \"properties\": {\n        \"dtype\": \"Int64\",\n        \"num_unique_values\": 12,\n        \"samples\": [\n          51265,\n          51237,\n          50811\n        ],\n        \"semantic_type\": \"\",\n        \"description\": \"\"\n      }\n    },\n    {\n      \"column\": \"label\",\n      \"properties\": {\n        \"dtype\": \"category\",\n        \"num_unique_values\": 4,\n        \"samples\": [\n          \"Hematocrit\",\n          \"Platelet Count\",\n          \"Hemoglobin\"\n        ],\n        \"semantic_type\": \"\",\n        \"description\": \"\"\n      }\n    }\n  ]\n}"
            }
          },
          "metadata": {}
        }
      ],
      "source": [
        "# List of lab tests relevant to internal hemorrhage\n",
        "lab_tests = ['Hemoglobin', 'Hematocrit', 'Platelet Count', 'Prothrombin time (PT)', 'INR(PT)']\n",
        "\n",
        "# SQL query to get item IDs for the specified lab tests\n",
        "query_lab_itemids = \"\"\"\n",
        "SELECT itemid, label\n",
        "FROM `physionet-data.mimiciv_hosp.d_labitems`\n",
        "WHERE label IN UNNEST(@lab_tests)\n",
        "\"\"\"\n",
        "\n",
        "# Set query parameters\n",
        "job_config = bigquery.QueryJobConfig(\n",
        "    query_parameters=[\n",
        "        bigquery.ArrayQueryParameter(\"lab_tests\", \"STRING\", lab_tests)\n",
        "    ]\n",
        ")\n",
        "\n",
        "# Execute the query and convert the result to a DataFrame\n",
        "lab_itemids_df = client.query(query_lab_itemids, job_config=job_config).to_dataframe()\n",
        "\n",
        "# Extract the list of item IDs\n",
        "lab_itemids = lab_itemids_df['itemid'].tolist()\n",
        "\n",
        "print(\"Lab Item IDs for selected tests:\")\n",
        "display(lab_itemids_df)\n"
      ]
    },
    {
      "cell_type": "code",
      "execution_count": 9,
      "metadata": {
        "colab": {
          "base_uri": "https://localhost:8080/"
        },
        "id": "aiy6Kofm5b1O",
        "outputId": "5b890179-354d-4add-b748-daf8dd582960"
      },
      "outputs": [
        {
          "output_type": "stream",
          "name": "stdout",
          "text": [
            "Retrieving lab events...\n"
          ]
        },
        {
          "output_type": "stream",
          "name": "stderr",
          "text": [
            "100%|██████████| 76/76 [02:57<00:00,  2.33s/it]"
          ]
        },
        {
          "output_type": "stream",
          "name": "stdout",
          "text": [
            "Total lab events retrieved: 1654510\n"
          ]
        },
        {
          "output_type": "stream",
          "name": "stderr",
          "text": [
            "\n"
          ]
        }
      ],
      "source": [
        "# Due to BigQuery limitations on parameter sizes, we may need to split balanced_hadm_ids into chunks\n",
        "hadm_id_chunks = list(split_list(balanced_hadm_ids, 1000))\n",
        "\n",
        "# Initialize an empty list to store DataFrames\n",
        "lab_events_dfs = []\n",
        "\n",
        "print(\"Retrieving lab events...\")\n",
        "\n",
        "for chunk in tqdm(hadm_id_chunks):\n",
        "    # SQL query to get lab events for the current chunk of hadm_ids\n",
        "    query_lab_events = \"\"\"\n",
        "    SELECT le.subject_id, le.hadm_id, le.itemid, le.charttime, le.valuenum\n",
        "    FROM `physionet-data.mimiciv_hosp.labevents` le\n",
        "    WHERE le.hadm_id IN UNNEST(@hadm_ids)\n",
        "      AND le.itemid IN UNNEST(@itemids)\n",
        "      AND le.valuenum IS NOT NULL\n",
        "    \"\"\"\n",
        "\n",
        "    # Set query parameters\n",
        "    job_config = bigquery.QueryJobConfig(\n",
        "        query_parameters=[\n",
        "            bigquery.ArrayQueryParameter(\"hadm_ids\", \"INT64\", chunk),\n",
        "            bigquery.ArrayQueryParameter(\"itemids\", \"INT64\", lab_itemids),\n",
        "        ]\n",
        "    )\n",
        "\n",
        "    # Execute the query and append the result to the list\n",
        "    lab_events_chunk_df = client.query(query_lab_events, job_config=job_config).to_dataframe()\n",
        "    lab_events_dfs.append(lab_events_chunk_df)\n",
        "\n",
        "# Concatenate all chunks into a single DataFrame\n",
        "lab_events_df = pd.concat(lab_events_dfs, ignore_index=True)\n",
        "\n",
        "print(f\"Total lab events retrieved: {lab_events_df.shape[0]}\")\n"
      ]
    },
    {
      "cell_type": "code",
      "execution_count": 10,
      "metadata": {
        "colab": {
          "base_uri": "https://localhost:8080/"
        },
        "id": "bqRHaPadu1PE",
        "outputId": "458e6454-43f7-4855-bf3b-df18543e0dfc"
      },
      "outputs": [
        {
          "output_type": "stream",
          "name": "stdout",
          "text": [
            "Total admissions retrieved: 75092\n",
            "Merged lab events with admission times.\n",
            "Lab events within first 48 hours: 542127\n"
          ]
        }
      ],
      "source": [
        "# SQL query to get admission times and labels\n",
        "query_admissions = \"\"\"\n",
        "SELECT hadm_id, subject_id, admittime, dischtime\n",
        "FROM `physionet-data.mimiciv_hosp.admissions`\n",
        "WHERE hadm_id IN UNNEST(@balanced_hadm_ids)\n",
        "\"\"\"\n",
        "\n",
        "# Set query parameters\n",
        "job_config = bigquery.QueryJobConfig(\n",
        "    query_parameters=[\n",
        "        bigquery.ArrayQueryParameter(\"balanced_hadm_ids\", \"INT64\", balanced_hadm_ids)\n",
        "    ]\n",
        ")\n",
        "\n",
        "# Execute the query and convert the result to a DataFrame\n",
        "admissions_df = client.query(query_admissions, job_config=job_config).to_dataframe()\n",
        "\n",
        "# Add labels to admissions_df\n",
        "admissions_df['label'] = admissions_df['hadm_id'].apply(lambda x: 1 if x in hemorrhage_hadm_ids else 0)\n",
        "\n",
        "print(f\"Total admissions retrieved: {admissions_df.shape[0]}\")\n",
        "\n",
        "# Convert datetime columns to datetime objects\n",
        "lab_events_df['charttime'] = pd.to_datetime(lab_events_df['charttime'])\n",
        "admissions_df['admittime'] = pd.to_datetime(admissions_df['admittime'])\n",
        "admissions_df['dischtime'] = pd.to_datetime(admissions_df['dischtime'])\n",
        "\n",
        "# Merge lab events with admissions to get admittime and labels\n",
        "lab_events_merged = lab_events_df.merge(\n",
        "    admissions_df[['hadm_id', 'admittime', 'label']],\n",
        "    on='hadm_id',\n",
        "    how='left'\n",
        ")\n",
        "\n",
        "# Calculate time difference in hours\n",
        "lab_events_merged['time_from_admission'] = (\n",
        "    lab_events_merged['charttime'] - lab_events_merged['admittime']\n",
        ").dt.total_seconds() / 3600.0  # in hours\n",
        "\n",
        "print(\"Merged lab events with admission times.\")\n",
        "\n",
        "# Filter data within the first 48 hours of admission\n",
        "lab_events_filtered = lab_events_merged[\n",
        "    (lab_events_merged['time_from_admission'] >= 0) &\n",
        "    (lab_events_merged['time_from_admission'] <= 48)\n",
        "]\n",
        "\n",
        "print(f\"Lab events within first 48 hours: {lab_events_filtered.shape[0]}\")\n"
      ]
    },
    {
      "cell_type": "code",
      "execution_count": 12,
      "metadata": {
        "colab": {
          "base_uri": "https://localhost:8080/"
        },
        "id": "55QQ6Vx06CN_",
        "outputId": "1dc30626-5652-4261-adf4-7824a6a016d8"
      },
      "outputs": [
        {
          "output_type": "stream",
          "name": "stderr",
          "text": [
            "<ipython-input-12-c10021eea5ff>:2: SettingWithCopyWarning: \n",
            "A value is trying to be set on a copy of a slice from a DataFrame.\n",
            "Try using .loc[row_indexer,col_indexer] = value instead\n",
            "\n",
            "See the caveats in the documentation: https://pandas.pydata.org/pandas-docs/stable/user_guide/indexing.html#returning-a-view-versus-a-copy\n",
            "  lab_events_filtered['hour_from_admission'] = lab_events_filtered['time_from_admission'].astype(int)\n"
          ]
        },
        {
          "output_type": "stream",
          "name": "stdout",
          "text": [
            "Building sequences...\n"
          ]
        },
        {
          "output_type": "stream",
          "name": "stderr",
          "text": [
            "100%|██████████| 75092/75092 [08:22<00:00, 149.35it/s]"
          ]
        },
        {
          "output_type": "stream",
          "name": "stdout",
          "text": [
            "Total sequences built: 62095\n"
          ]
        },
        {
          "output_type": "stream",
          "name": "stderr",
          "text": [
            "\n"
          ]
        }
      ],
      "source": [
        "# Round down to the nearest hour\n",
        "lab_events_filtered['hour_from_admission'] = lab_events_filtered['time_from_admission'].astype(int)\n",
        "\n",
        "# Calculate the mean value for each lab test per hour per admission\n",
        "lab_data_hourly = lab_events_filtered.groupby(\n",
        "    ['hadm_id', 'itemid', 'hour_from_admission']\n",
        ")['valuenum'].mean().reset_index()\n",
        "\n",
        "# Get the list of unique itemids (lab tests)\n",
        "lab_itemids = sorted(lab_data_hourly['itemid'].unique())\n",
        "\n",
        "# Initialize lists for sequences and labels\n",
        "sequences = []\n",
        "labels = []\n",
        "\n",
        "sequence_length = 48  # 48 hours\n",
        "num_features = len(lab_itemids)\n",
        "\n",
        "# Build sequences for each admission\n",
        "print(\"Building sequences...\")\n",
        "\n",
        "for hadm_id in tqdm(balanced_hadm_ids):\n",
        "    # Filter data for the current admission\n",
        "    lab_data_hadm = lab_data_hourly[lab_data_hourly['hadm_id'] == hadm_id]\n",
        "    if lab_data_hadm.empty:\n",
        "        continue  # Skip if no data available\n",
        "\n",
        "    # Pivot to get a matrix of shape (hours, features)\n",
        "    lab_pivot = lab_data_hadm.pivot(\n",
        "        index='hour_from_admission',\n",
        "        columns='itemid',\n",
        "        values='valuenum'\n",
        "    )\n",
        "\n",
        "    # Reindex to ensure all hours are present\n",
        "    lab_pivot = lab_pivot.reindex(range(sequence_length))\n",
        "    # Reindex columns to ensure consistent feature order\n",
        "    lab_pivot = lab_pivot.reindex(columns=lab_itemids)\n",
        "\n",
        "    # Fill missing values using forward fill, backward fill, and mean\n",
        "    lab_pivot = lab_pivot.ffill().bfill().fillna(lab_pivot.mean())\n",
        "\n",
        "    # Fill any remaining NaNs with zero\n",
        "    lab_pivot = lab_pivot.fillna(0)\n",
        "\n",
        "    # Convert to numpy array\n",
        "    sequence = lab_pivot.values\n",
        "    # Append sequence and label\n",
        "    sequences.append(sequence)\n",
        "    label = admissions_df.loc[admissions_df['hadm_id'] == hadm_id, 'label'].values[0]\n",
        "    labels.append(label)\n",
        "\n",
        "print(f\"Total sequences built: {len(sequences)}\")\n"
      ]
    },
    {
      "cell_type": "markdown",
      "metadata": {
        "id": "BNYIKZZo6Gfs"
      },
      "source": [
        "split"
      ]
    },
    {
      "cell_type": "code",
      "execution_count": 13,
      "metadata": {
        "id": "oQ9R_qnQ6G-r",
        "colab": {
          "base_uri": "https://localhost:8080/"
        },
        "outputId": "35cc1314-3421-49f1-d3c8-6618ecf8bcd9"
      },
      "outputs": [
        {
          "output_type": "stream",
          "name": "stdout",
          "text": [
            "Shape of X: (62095, 48, 5)\n",
            "Shape of y: (62095,)\n",
            "Training samples: 49676\n",
            "Test samples: 12419\n"
          ]
        }
      ],
      "source": [
        "# Convert lists to numpy arrays\n",
        "X = np.array(sequences)\n",
        "y = np.array(labels)\n",
        "\n",
        "print(f\"Shape of X: {X.shape}\")  # (num_samples, sequence_length, num_features)\n",
        "print(f\"Shape of y: {y.shape}\")  # (num_samples,)\n",
        "\n",
        "# Split data into training and test sets\n",
        "from sklearn.model_selection import train_test_split\n",
        "\n",
        "X_train, X_test, y_train, y_test = train_test_split(\n",
        "    X, y, test_size=0.2, stratify=y, random_state=42\n",
        ")\n",
        "\n",
        "print(f\"Training samples: {X_train.shape[0]}\")\n",
        "print(f\"Test samples: {X_test.shape[0]}\")\n"
      ]
    },
    {
      "cell_type": "markdown",
      "metadata": {
        "id": "Okkc1q046JuN"
      },
      "source": [
        "train"
      ]
    },
    {
      "cell_type": "code",
      "execution_count": 19,
      "metadata": {
        "id": "OeyulLPa6Kb_",
        "colab": {
          "base_uri": "https://localhost:8080/"
        },
        "outputId": "e5ffc20a-82fe-47e4-f8da-54d5b2c788e5"
      },
      "outputs": [
        {
          "output_type": "stream",
          "name": "stdout",
          "text": [
            "Epoch 1/12\n",
            "\u001b[1m1553/1553\u001b[0m \u001b[32m━━━━━━━━━━━━━━━━━━━━\u001b[0m\u001b[37m\u001b[0m \u001b[1m44s\u001b[0m 27ms/step - accuracy: 0.5540 - loss: 0.6827 - val_accuracy: 0.5638 - val_loss: 0.6783\n",
            "Epoch 2/12\n",
            "\u001b[1m1553/1553\u001b[0m \u001b[32m━━━━━━━━━━━━━━━━━━━━\u001b[0m\u001b[37m\u001b[0m \u001b[1m80s\u001b[0m 26ms/step - accuracy: 0.5672 - loss: 0.6767 - val_accuracy: 0.5680 - val_loss: 0.6749\n",
            "Epoch 3/12\n",
            "\u001b[1m1553/1553\u001b[0m \u001b[32m━━━━━━━━━━━━━━━━━━━━\u001b[0m\u001b[37m\u001b[0m \u001b[1m44s\u001b[0m 28ms/step - accuracy: 0.5713 - loss: 0.6748 - val_accuracy: 0.5751 - val_loss: 0.6739\n",
            "Epoch 4/12\n",
            "\u001b[1m1553/1553\u001b[0m \u001b[32m━━━━━━━━━━━━━━━━━━━━\u001b[0m\u001b[37m\u001b[0m \u001b[1m80s\u001b[0m 27ms/step - accuracy: 0.5763 - loss: 0.6742 - val_accuracy: 0.5802 - val_loss: 0.6735\n",
            "Epoch 5/12\n",
            "\u001b[1m1553/1553\u001b[0m \u001b[32m━━━━━━━━━━━━━━━━━━━━\u001b[0m\u001b[37m\u001b[0m \u001b[1m82s\u001b[0m 27ms/step - accuracy: 0.5805 - loss: 0.6739 - val_accuracy: 0.5839 - val_loss: 0.6709\n",
            "Epoch 6/12\n",
            "\u001b[1m1553/1553\u001b[0m \u001b[32m━━━━━━━━━━━━━━━━━━━━\u001b[0m\u001b[37m\u001b[0m \u001b[1m82s\u001b[0m 27ms/step - accuracy: 0.5810 - loss: 0.6721 - val_accuracy: 0.5848 - val_loss: 0.6714\n",
            "Epoch 7/12\n",
            "\u001b[1m1553/1553\u001b[0m \u001b[32m━━━━━━━━━━━━━━━━━━━━\u001b[0m\u001b[37m\u001b[0m \u001b[1m80s\u001b[0m 26ms/step - accuracy: 0.5858 - loss: 0.6718 - val_accuracy: 0.5880 - val_loss: 0.6709\n",
            "Epoch 8/12\n",
            "\u001b[1m1553/1553\u001b[0m \u001b[32m━━━━━━━━━━━━━━━━━━━━\u001b[0m\u001b[37m\u001b[0m \u001b[1m43s\u001b[0m 27ms/step - accuracy: 0.5846 - loss: 0.6709 - val_accuracy: 0.5923 - val_loss: 0.6700\n",
            "Epoch 9/12\n",
            "\u001b[1m1553/1553\u001b[0m \u001b[32m━━━━━━━━━━━━━━━━━━━━\u001b[0m\u001b[37m\u001b[0m \u001b[1m80s\u001b[0m 26ms/step - accuracy: 0.5882 - loss: 0.6704 - val_accuracy: 0.5708 - val_loss: 0.6721\n",
            "Epoch 10/12\n",
            "\u001b[1m1553/1553\u001b[0m \u001b[32m━━━━━━━━━━━━━━━━━━━━\u001b[0m\u001b[37m\u001b[0m \u001b[1m42s\u001b[0m 27ms/step - accuracy: 0.5885 - loss: 0.6698 - val_accuracy: 0.5942 - val_loss: 0.6683\n",
            "Epoch 11/12\n",
            "\u001b[1m1553/1553\u001b[0m \u001b[32m━━━━━━━━━━━━━━━━━━━━\u001b[0m\u001b[37m\u001b[0m \u001b[1m40s\u001b[0m 26ms/step - accuracy: 0.5865 - loss: 0.6699 - val_accuracy: 0.5924 - val_loss: 0.6686\n",
            "Epoch 12/12\n",
            "\u001b[1m1553/1553\u001b[0m \u001b[32m━━━━━━━━━━━━━━━━━━━━\u001b[0m\u001b[37m\u001b[0m \u001b[1m43s\u001b[0m 27ms/step - accuracy: 0.5873 - loss: 0.6704 - val_accuracy: 0.5796 - val_loss: 0.6729\n"
          ]
        }
      ],
      "source": [
        "# Build the LSTM model\n",
        "from tensorflow.keras.models import Sequential\n",
        "from tensorflow.keras.layers import LSTM, Dense\n",
        "from tensorflow.keras.optimizers import Adam\n",
        "\n",
        "# Define input shape\n",
        "input_shape = X_train.shape[1:]  # (sequence_length, num_features)\n",
        "\n",
        "# Build the model\n",
        "model = Sequential()\n",
        "model.add(LSTM(64, input_shape=input_shape))\n",
        "model.add(Dense(1, activation='sigmoid'))\n",
        "\n",
        "# Compile the model\n",
        "model.compile(\n",
        "    optimizer=Adam(learning_rate=0.001),\n",
        "    loss='binary_crossentropy',\n",
        "    metrics=['accuracy']\n",
        ")\n",
        "\n",
        "# Train the model\n",
        "history = model.fit(\n",
        "    X_train, y_train,\n",
        "    epochs=12,\n",
        "    batch_size=32,\n",
        "    validation_data=(X_test, y_test)\n",
        ")\n"
      ]
    },
    {
      "cell_type": "markdown",
      "metadata": {
        "id": "c1thsy7Z6QgE"
      },
      "source": [
        "eval"
      ]
    },
    {
      "cell_type": "code",
      "execution_count": 20,
      "metadata": {
        "id": "2TNjd6AO6Q65",
        "colab": {
          "base_uri": "https://localhost:8080/",
          "height": 458
        },
        "outputId": "8461dc7a-3222-4769-beda-00c7dba618f3"
      },
      "outputs": [
        {
          "output_type": "stream",
          "name": "stdout",
          "text": [
            "\u001b[1m389/389\u001b[0m \u001b[32m━━━━━━━━━━━━━━━━━━━━\u001b[0m\u001b[37m\u001b[0m \u001b[1m3s\u001b[0m 8ms/step - accuracy: 0.5787 - loss: 0.6729\n",
            "Test Loss: 0.6729\n",
            "Test Accuracy: 0.5796\n"
          ]
        },
        {
          "output_type": "display_data",
          "data": {
            "text/plain": [
              "<Figure size 1200x400 with 2 Axes>"
            ],
            "image/png": "[encoded data removed]"
          },
          "metadata": {}
        }
      ],
      "source": [
        "# Evaluate on the test set\n",
        "loss, accuracy = model.evaluate(X_test, y_test)\n",
        "print(f'Test Loss: {loss:.4f}')\n",
        "print(f'Test Accuracy: {accuracy:.4f}')\n",
        "\n",
        "# Plot training & validation accuracy and loss\n",
        "import matplotlib.pyplot as plt\n",
        "\n",
        "plt.figure(figsize=(12, 4))\n",
        "plt.subplot(1, 2, 1)\n",
        "plt.plot(history.history['accuracy'], label='Train')\n",
        "plt.plot(history.history['val_accuracy'], label='Test')\n",
        "plt.title('Model Accuracy')\n",
        "plt.ylabel('Accuracy')\n",
        "plt.xlabel('Epoch')\n",
        "plt.legend()\n",
        "\n",
        "plt.subplot(1, 2, 2)\n",
        "plt.plot(history.history['loss'], label='Train')\n",
        "plt.plot(history.history['val_loss'], label='Test')\n",
        "plt.title('Model Loss')\n",
        "plt.ylabel('Loss')\n",
        "plt.xlabel('Epoch')\n",
        "plt.legend()\n",
        "\n",
        "plt.tight_layout()\n",
        "plt.show()\n"
      ]
    },
    {
      "cell_type": "code",
      "source": [
        "# Make predictions\n",
        "y_pred_prob = model.predict(X_test).ravel()\n",
        "y_pred = (y_pred_prob >= 0.5).astype(int)\n",
        "\n",
        "# Compute AUC-ROC\n",
        "from sklearn.metrics import roc_auc_score, roc_curve, confusion_matrix, classification_report\n",
        "\n",
        "auc = roc_auc_score(y_test, y_pred_prob)\n",
        "print(f'AUC-ROC: {auc:.4f}')\n",
        "\n",
        "# Plot ROC Curve\n",
        "fpr, tpr, thresholds = roc_curve(y_test, y_pred_prob)\n",
        "plt.figure()\n",
        "plt.plot(fpr, tpr, label=f'AUC = {auc:.4f}')\n",
        "plt.plot([0, 1], [0, 1], linestyle='--')\n",
        "plt.title('ROC Curve')\n",
        "plt.xlabel('False Positive Rate')\n",
        "plt.ylabel('True Positive Rate')\n",
        "plt.legend()\n",
        "plt.show()\n",
        "\n",
        "# Confusion Matrix\n",
        "cm = confusion_matrix(y_test, y_pred)\n",
        "print('Confusion Matrix:')\n",
        "print(cm)\n",
        "\n",
        "# Classification Report\n",
        "cr = classification_report(y_test, y_pred)\n",
        "print('Classification Report:')\n",
        "print(cr)\n"
      ],
      "metadata": {
        "colab": {
          "base_uri": "https://localhost:8080/",
          "height": 727
        },
        "id": "LKeFryCaWWho",
        "outputId": "1b7543ea-784e-4e5a-8725-f5dd81033f2e"
      },
      "execution_count": 21,
      "outputs": [
        {
          "output_type": "stream",
          "name": "stdout",
          "text": [
            "\u001b[1m389/389\u001b[0m \u001b[32m━━━━━━━━━━━━━━━━━━━━\u001b[0m\u001b[37m\u001b[0m \u001b[1m11s\u001b[0m 26ms/step\n",
            "AUC-ROC: 0.6136\n"
          ]
        },
        {
          "output_type": "display_data",
          "data": {
            "text/plain": [
              "<Figure size 640x480 with 1 Axes>"
            ],
            "image/png": "[encoded data removed]"
          },
          "metadata": {}
        },
        {
          "output_type": "stream",
          "name": "stdout",
          "text": [
            "Confusion Matrix:\n",
            "[[3307 2217]\n",
            " [3004 3891]]\n",
            "Classification Report:\n",
            "              precision    recall  f1-score   support\n",
            "\n",
            "           0       0.52      0.60      0.56      5524\n",
            "           1       0.64      0.56      0.60      6895\n",
            "\n",
            "    accuracy                           0.58     12419\n",
            "   macro avg       0.58      0.58      0.58     12419\n",
            "weighted avg       0.59      0.58      0.58     12419\n",
            "\n"
          ]
        }
      ]
    },
    {
      "cell_type": "markdown",
      "metadata": {
        "id": "pV3KI4EMV_sk"
      },
      "source": [
        "Documentation for MIMIC-IV https://mimic.mit.edu/docs/iv/about/concepts/)\n",
        "\n",
        "Documentation for tables\n",
        "* https://mimic.mit.edu/docs/iv/modules/hosp/admissions/\n",
        "* https://mimic.mit.edu/docs/iv/modules/hosp/patients/\n",
        "* https://mimic.mit.edu/docs/iv/modules/hosp/d_icd_diagnoses/\n",
        "* https://mimic.mit.edu/docs/iv/modules/hosp/d_icd_procedures/\n",
        "* https://mimic.mit.edu/docs/iv/modules/hosp/diagnoses_icd/\n",
        "* https://mimic.mit.edu/docs/iv/modules/hosp/procedures_icd/"
      ]
    }
  ],
  "metadata": {
    "colab": {
      "provenance": []
    },
    "kernelspec": {
      "display_name": "Python 3",
      "name": "python3"
    },
    "language_info": {
      "name": "python"
    }
  },
  "nbformat": 4,
  "nbformat_minor": 0
}